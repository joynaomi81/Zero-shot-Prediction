{
  "nbformat": 4,
  "nbformat_minor": 0,
  "metadata": {
    "colab": {
      "provenance": [],
      "gpuType": "T4",
      "authorship_tag": "ABX9TyOJo/DjJhhx6e+AUzgPhbkz",
      "include_colab_link": true
    },
    "kernelspec": {
      "name": "python3",
      "display_name": "Python 3"
    },
    "language_info": {
      "name": "python"
    },
    "accelerator": "GPU"
  },
  "cells": [
    {
      "cell_type": "markdown",
      "metadata": {
        "id": "view-in-github",
        "colab_type": "text"
      },
      "source": [
        "<a href=\"https://colab.research.google.com/github/joynaomi81/Zero-shot-Prediction/blob/main/Zero_shot_Prediction.ipynb\" target=\"_parent\"><img src=\"https://colab.research.google.com/assets/colab-badge.svg\" alt=\"Open In Colab\"/></a>"
      ]
    },
    {
      "cell_type": "markdown",
      "source": [
      
        "\n",
        "# What is Zero-Shot Classification?\n",
        "\n",
        "Zero-shot classification is a natural language processing (NLP) technique that allows a model to assign labels or categories to text without having been explicitly trained on examples of those labels.\n",
        "\n",
        "In simple terms, it means the model can understand and classify text into categories it has never seen before, using only the meaning of the labels.\n",
        "\n",
        "\n",
        "# How Does It Work?\n",
        "\n",
        "Zero-shot models use pretrained language understanding (like from BART or RoBERTa) and apply natural language inference (NLI) techniques to estimate whether a given label fits a text.\n",
        "\n",
        "\n",
        "\n",
        "# Why Use Zero-Shot Classification?\n",
        "* You don’t need labeled training data for your specific categories.  \n",
        "* You can quickly test new labels or categories.  \n",
        "\n",
        "\n",
        "## Key Terms\n",
        "\n",
        " Sequence: The input text being classified.\n",
        "\n",
        " Labels: The list of candidate categories provided by the user.\n",
        "\n",
        "Scores: Confidence values (between 0 and 1) showing how likely the model thinks the text belongs to each label. The scores typically sum to 1 across all labels."
      ],
      "metadata": {
        "id": "6ttQqNOQ5ZJ9"
      }
    },
    {
      "cell_type": "code",
      "execution_count": 14,
      "metadata": {
        "id": "6iihuZvivT1-"
      },
      "outputs": [],
      "source": [
        "!pip install -q transformers"
      ]
    },
    {
      "cell_type": "markdown",
      "source": [
        "Load model"
      ],
      "metadata": {
        "id": "pPzxORsSwwNl"
      }
    },
    {
      "cell_type": "code",
      "source": [
        "from transformers import pipeline\n",
        "classifier = pipeline(\"zero-shot-classification\", model=\"facebook/bart-large-mnli\")"
      ],
      "metadata": {
        "colab": {
          "base_uri": "https://localhost:8080/"
        },
        "id": "lKl8Ea_MwXeY",
        "outputId": "597502ca-8970-4eb0-bf5e-5385b37e8303"
      },
      "execution_count": 15,
      "outputs": [
        {
          "output_type": "stream",
          "name": "stderr",
          "text": [
            "Device set to use cuda:0\n"
          ]
        }
      ]
    },
    {
      "cell_type": "code",
      "source": [
        "# input text and candidate labels\n",
        "sequence_to_classify = \"one day I will see the world\"  #classify text\n",
        "candidate_labels = ['travel', 'cooking', 'dancing']\n",
        "\n",
        "classifier(sequence_to_classify, candidate_labels)"
      ],
      "metadata": {
        "colab": {
          "base_uri": "https://localhost:8080/"
        },
        "id": "3e7XJhk0wlMe",
        "outputId": "daeebcbf-be01-4c50-fe2b-420b96aa7185"
      },
      "execution_count": 16,
      "outputs": [
        {
          "output_type": "execute_result",
          "data": {
            "text/plain": [
              "{'sequence': 'one day I will see the world',\n",
              " 'labels': ['travel', 'dancing', 'cooking'],\n",
              " 'scores': [0.9938651323318481, 0.0032737809233367443, 0.002861025743186474]}"
            ]
          },
          "metadata": {},
          "execution_count": 16
        }
      ]
    },
    {
      "cell_type": "code",
      "source": [
        "# input text and candidate labels\n",
        "candidate_labels = ['travel', 'cooking', 'dancing', 'exploration']\n",
        "classifier(sequence_to_classify, candidate_labels, multi_label=True)"
      ],
      "metadata": {
        "colab": {
          "base_uri": "https://localhost:8080/"
        },
        "id": "Pewdbc-dxBJs",
        "outputId": "d7cb3117-9ce8-4556-d427-50ea5e5597bb"
      },
      "execution_count": 17,
      "outputs": [
        {
          "output_type": "execute_result",
          "data": {
            "text/plain": [
              "{'sequence': 'one day I will see the world',\n",
              " 'labels': ['travel', 'exploration', 'dancing', 'cooking'],\n",
              " 'scores': [0.9945111274719238,\n",
              "  0.9383887052536011,\n",
              "  0.005706210620701313,\n",
              "  0.0018193126888945699]}"
            ]
          },
          "metadata": {},
          "execution_count": 17
        }
      ]
    },
    {
      "cell_type": "code",
      "source": [
        "# input text and candidate labels\n",
        "sequence_to_classify = \"Donald Trump will be next president\"\n",
        "candidate_labels = ['science', 'politics', 'history']\n",
        "classifier(sequence_to_classify, candidate_labels)"
      ],
      "metadata": {
        "colab": {
          "base_uri": "https://localhost:8080/"
        },
        "id": "t_kpMT_TxWZA",
        "outputId": "847d7137-8b9e-4a25-d201-17a75fb7fb66"
      },
      "execution_count": 18,
      "outputs": [
        {
          "output_type": "execute_result",
          "data": {
            "text/plain": [
              "{'sequence': 'Donald Trump will be next president',\n",
              " 'labels': ['politics', 'history', 'science'],\n",
              " 'scores': [0.8404946327209473, 0.15548016130924225, 0.004025156144052744]}"
            ]
          },
          "metadata": {},
          "execution_count": 18
        }
      ]
    },
    {
      "cell_type": "code",
      "source": [
        "# input text and candidate labels\n",
        "sequence_to_classify = \"The James Webb Space Telescope has made groundbreaking discoveries in astrophysics.\"\n",
        "candidate_labels = ['space', 'sports', 'politics']\n",
        "classifier(sequence_to_classify, candidate_labels)"
      ],
      "metadata": {
        "colab": {
          "base_uri": "https://localhost:8080/"
        },
        "id": "FyKvnlk30Hli",
        "outputId": "73164066-3e14-4a16-9fc6-59e3f0a9dddf"
      },
      "execution_count": 19,
      "outputs": [
        {
          "output_type": "execute_result",
          "data": {
            "text/plain": [
              "{'sequence': 'The James Webb Space Telescope has made groundbreaking discoveries in astrophysics.',\n",
              " 'labels': ['space', 'sports', 'politics'],\n",
              " 'scores': [0.984025239944458, 0.009652308188378811, 0.006322517525404692]}"
            ]
          },
          "metadata": {},
          "execution_count": 19
        }
      ]
    },
    {
      "cell_type": "code",
      "source": [
        "# input text and candidate labels\n",
        "sequence_to_classify = \"Regular exercise and a balanced diet can improve mental health.\"\n",
        "candidate_labels = ['health', 'technology', 'finance']\n",
        "classifier(sequence_to_classify, candidate_labels)"
      ],
      "metadata": {
        "colab": {
          "base_uri": "https://localhost:8080/"
        },
        "id": "dSlTgebZ02EG",
        "outputId": "3cdeae39-32af-4645-e404-f19ed3d0a3a5"
      },
      "execution_count": 20,
      "outputs": [
        {
          "output_type": "execute_result",
          "data": {
            "text/plain": [
              "{'sequence': 'Regular exercise and a balanced diet can improve mental health.',\n",
              " 'labels': ['health', 'technology', 'finance'],\n",
              " 'scores': [0.9278359413146973, 0.04332251474261284, 0.028841543942689896]}"
            ]
          },
          "metadata": {},
          "execution_count": 20
        }
      ]
    },
    {
      "cell_type": "code",
      "source": [],
      "metadata": {
        "id": "Qy4AzNlm4k3b"
      },
      "execution_count": 20,
      "outputs": []
    }
  ]
}
